{
 "cells": [
  {
   "cell_type": "code",
   "execution_count": 4,
   "id": "24867aaf",
   "metadata": {},
   "outputs": [],
   "source": [
    "import numpy as np\n",
    "from scipy.stats import linregress"
   ]
  },
  {
   "cell_type": "code",
   "execution_count": 21,
   "id": "978fddba",
   "metadata": {},
   "outputs": [],
   "source": [
    "def get_power_law_exponent(w, tau, num_points_to_fit=5):\n",
    "    \"\"\"\n",
    "    Berechnet den Power-Law-Exponenten (n) aus den ersten Datenpunkten.\n",
    "\n",
    "    Args:\n",
    "        w (list oder np.array): Frequenzwerte.\n",
    "        tau (list oder np.array): Zugehörige Transmissionswerte.\n",
    "        num_points_to_fit (int): Anzahl der ersten Datenpunkte, die gefittet werden sollen.\n",
    "\n",
    "    Returns:\n",
    "        float: Der berechnete Power-Law-Exponent n.\n",
    "    \"\"\"\n",
    "    # Daten in NumPy-Arrays umwandeln und die ersten n Punkte auswählen\n",
    "    w_subset = np.array(w[:num_points_to_fit])\n",
    "    tau_subset = np.array(tau[:num_points_to_fit])\n",
    "    \n",
    "    # Sicherstellen, dass keine Nullwerte vorhanden sind\n",
    "    if np.any(tau_subset <= 0):\n",
    "        print(\"Warnung: Transmissionswerte müssen größer als Null sein.\")\n",
    "        return None\n",
    "\n",
    "    # Logarithmische Transformation\n",
    "    log_w = np.log(w_subset)\n",
    "    log_tau = np.log(tau_subset)\n",
    "\n",
    "    # Lineare Regression\n",
    "    slope, _, _, _, _ = linregress(log_w, log_tau)\n",
    "    \n",
    "    return slope"
   ]
  },
  {
   "cell_type": "code",
   "execution_count": 23,
   "id": "f383524f",
   "metadata": {},
   "outputs": [
    {
     "name": "stdout",
     "output_type": "stream",
     "text": [
      "Der Power-Law-Exponent n beträgt: 1.99\n"
     ]
    }
   ],
   "source": [
    "# --- Beispiel zur Nutzung der Funktion ---\n",
    "# Deine Daten\n",
    "datei = r'C:\\Users\\sevke\\Desktop\\Dev\\MA\\phonokit\\plot\\lagrange_multiplier\\gegen0lagrangebroken\\1dChain_2center_kc=215(diagelements)___PT_elL=Ribbon2D_elR=Ribbon2D_CC=FiniteLattice2D_intrange=1_kc=900_kc_xy=180.dat'\n",
    "daten = np.loadtxt(datei, skiprows=1)\n",
    "frequenz = daten[:, 0]\n",
    "transmission = daten[:, 1]\n",
    "\n",
    "# Den Exponenten berechnen\n",
    "exponent_n = get_power_law_exponent(frequenz, transmission, num_points_to_fit=10)\n",
    "\n",
    "print(f\"Der Power-Law-Exponent n beträgt: {exponent_n:.2f}\")"
   ]
  },
  {
   "cell_type": "code",
   "execution_count": null,
   "id": "f43f38af",
   "metadata": {},
   "outputs": [],
   "source": []
  }
 ],
 "metadata": {
  "kernelspec": {
   "display_name": "Python 3",
   "language": "python",
   "name": "python3"
  },
  "language_info": {
   "codemirror_mode": {
    "name": "ipython",
    "version": 3
   },
   "file_extension": ".py",
   "mimetype": "text/x-python",
   "name": "python",
   "nbconvert_exporter": "python",
   "pygments_lexer": "ipython3",
   "version": "3.12.6"
  }
 },
 "nbformat": 4,
 "nbformat_minor": 5
}
